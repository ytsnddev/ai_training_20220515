{
 "cells": [
  {
   "cell_type": "code",
   "execution_count": null,
   "id": "2d8c3b33-6801-4df6-80e4-42e9f4ee1b9f",
   "metadata": {},
   "outputs": [],
   "source": [
    "# 基本のライブラリを読み込む\n",
    "import numpy as np\n",
    "import pandas as pd\n",
    "from scipy import stats\n",
    "\n",
    "# グラフ描画\n",
    "from matplotlib import pylab as plt\n",
    "import seaborn as sns\n",
    "%matplotlib inline\n",
    "\n",
    "# グラフを横長にする\n",
    "from matplotlib.pylab import rcParams\n",
    "rcParams['figure.figsize'] = 15, 6"
   ]
  },
  {
   "cell_type": "code",
   "execution_count": null,
   "id": "14aa8852-a894-4b24-86a4-ffdb6076821b",
   "metadata": {},
   "outputs": [],
   "source": [
    "# WebサイトからデータをDownload\n",
    "!wget \"https://www.analyticsvidhya.com/wp-content/uploads/2016/02/AirPassengers.csv\" \n",
    "\n",
    "dateparse = lambda dates: pd.datetime.strptime(dates, '%Y-%m')\n",
    "data = pd.read_csv(\"AirPassengers.csv\", index_col='Month', date_parser=dateparse, dtype='float')"
   ]
  },
  {
   "cell_type": "code",
   "execution_count": null,
   "id": "18d4171b-e4b5-4dbf-8fda-b3e74b510b4f",
   "metadata": {},
   "outputs": [],
   "source": [
    "# 日付形式にする\n",
    "ts = data['#Passengers'] \n",
    "ts.head()"
   ]
  },
  {
   "cell_type": "code",
   "execution_count": null,
   "id": "f2e88a0d-a1ec-4062-9485-805499cedfca",
   "metadata": {},
   "outputs": [],
   "source": [
    "# プロット\n",
    "plt.plot(ts)"
   ]
  },
  {
   "cell_type": "code",
   "execution_count": null,
   "id": "2de83216-5b00-4e6c-a1fc-643bdddf41ad",
   "metadata": {},
   "outputs": [],
   "source": [
    "ts[ts.index < pd.Timestamp('1960-01-01')]"
   ]
  },
  {
   "cell_type": "code",
   "execution_count": null,
   "id": "e1a243e0-3886-4f44-bf6f-af96326b08f0",
   "metadata": {},
   "outputs": [],
   "source": [
    "import statsmodels.api as sm\n",
    "\n",
    "\n",
    "# 1960/1/1までのデータを学習させる\n",
    "ts_train = ts[ts.index < pd.Timestamp('1960-01-01')]\n",
    "\n",
    "model1 = sm.tsa.UnobservedComponents(\n",
    "    ts_train,\n",
    "    level=\"local level\",\n",
    "    irregular=True,\n",
    ")\n",
    "\n",
    "ret1 = model1.fit(method=\"BFGS\", maxiter=5000)\n",
    "\n",
    "# 推定された状態・トレンドの描画\n",
    "rcParams['figure.figsize'] = 15, 15\n",
    "fig = ret1.plot_components()"
   ]
  },
  {
   "cell_type": "code",
   "execution_count": null,
   "id": "a49a45bc-3298-4d6f-b167-f0ba7529fc78",
   "metadata": {},
   "outputs": [],
   "source": [
    "# 1960/1/1までを学習したモデルで1960/1/1以降を予測\n",
    "pred1 = ret1.predict('1960-01-01', '1961-12-01')\n",
    "\n",
    "# 実データと予測結果の図示\n",
    "rcParams['figure.figsize'] = 15, 6\n",
    "plt.plot(ts)\n",
    "plt.plot(pred1, \"r\")"
   ]
  },
  {
   "cell_type": "code",
   "execution_count": null,
   "id": "fecd1105-1acd-4458-8d22-7eda9bd1d263",
   "metadata": {},
   "outputs": [],
   "source": [
    "model2 = sm.tsa.UnobservedComponents(\n",
    "    ts_train,\n",
    "    level=\"local linear trend\",\n",
    "    irregular=True,\n",
    ")\n",
    "\n",
    "ret2 = model2.fit(method=\"BFGS\", maxiter=5000)\n",
    "\n",
    "# 推定された状態・トレンドの描画\n",
    "rcParams['figure.figsize'] = 15, 15\n",
    "fig = ret2.plot_components()"
   ]
  },
  {
   "cell_type": "code",
   "execution_count": null,
   "id": "b63bdc34-3b81-47a2-ba35-810c0f9f0734",
   "metadata": {},
   "outputs": [],
   "source": [
    "# 予測\n",
    "pred2 = ret2.predict('1960-01-01', '1961-12-01')\n",
    "\n",
    "# 実データと予測結果の図示\n",
    "rcParams['figure.figsize'] = 15, 6\n",
    "plt.plot(ts)\n",
    "plt.plot(pred2, \"r\")"
   ]
  },
  {
   "cell_type": "code",
   "execution_count": null,
   "id": "ba5ee785-048c-4350-909a-3cf40c65fc66",
   "metadata": {},
   "outputs": [],
   "source": [
    "model3 = sm.tsa.UnobservedComponents(\n",
    "    ts_train,\n",
    "    level='local linear trend',\n",
    "    seasonal=12,\n",
    ")\n",
    "\n",
    "ret3 = model3.fit(method=\"BFGS\", maxiter=5000)\n",
    "\n",
    "# 推定された状態・トレンドの描画\n",
    "rcParams['figure.figsize'] = 15, 15\n",
    "fig = ret3.plot_components()"
   ]
  },
  {
   "cell_type": "code",
   "execution_count": null,
   "id": "42118dc7-f666-490f-99a0-c5e0e01e5cca",
   "metadata": {},
   "outputs": [],
   "source": [
    "# 予測\n",
    "pred3 = ret3.predict('1960-01-01', '1961-12-01')\n",
    "\n",
    "# 実データと予測結果の図示\n",
    "rcParams['figure.figsize'] = 15, 6\n",
    "plt.plot(ts)\n",
    "plt.plot(pred3, \"r\")"
   ]
  },
  {
   "cell_type": "code",
   "execution_count": null,
   "id": "0ebb276f-b0f3-4f55-95a4-3e1e122da195",
   "metadata": {},
   "outputs": [],
   "source": []
  }
 ],
 "metadata": {
  "kernelspec": {
   "display_name": "aipscm-algorithm-core",
   "language": "python",
   "name": "aipscm-algorithm-core"
  },
  "language_info": {
   "codemirror_mode": {
    "name": "ipython",
    "version": 3
   },
   "file_extension": ".py",
   "mimetype": "text/x-python",
   "name": "python",
   "nbconvert_exporter": "python",
   "pygments_lexer": "ipython3",
   "version": "3.9.11"
  }
 },
 "nbformat": 4,
 "nbformat_minor": 5
}
